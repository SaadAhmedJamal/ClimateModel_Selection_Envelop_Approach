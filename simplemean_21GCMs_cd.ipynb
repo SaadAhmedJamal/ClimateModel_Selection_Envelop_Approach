{
 "cells": [
  {
   "cell_type": "code",
   "execution_count": 1,
   "metadata": {},
   "outputs": [],
   "source": [
    "import os\n",
    "\n",
    "import glob\n",
    "\n",
    "import pandas as pd\n",
    "\n",
    "## Reading Multiple files at a time using glob\n",
    "#https://cdw.youtube.com/watch?v=KM1dtuOkb4Y\n",
    "\n",
    "\n",
    "from glob import glob\n"
   ]
  },
  {
   "cell_type": "code",
   "execution_count": 2,
   "metadata": {},
   "outputs": [],
   "source": [
    "All_files_St_cd=pd.read_csv('input_MS/Stations_latlon.csv')"
   ]
  },
  {
   "cell_type": "code",
   "execution_count": 17,
   "metadata": {},
   "outputs": [],
   "source": [
    "for c,o in All_files_St_cd.groupby('Stations'):\n",
    "    o=('input_MS/'+str(c)+'.csv')    \n",
    "    g=pd.read_csv(o)               # to save in the folder\n",
    "    g.index=g['Date']\n",
    "    g.drop(['Date'],axis=1,inplace=True)\n",
    "    g[str(c)]=(g.mean(axis=1))\n",
    "    x=pd.DataFrame(g.loc['1971-01-01 12:00:00':'2005-12-15 12:00:00',str(c)],columns=[str(c)])\n",
    "    globals()['ysum_mean'+str(c)]=x\n",
    "    \n",
    "\n",
    "MME_Average=pd.concat([globals()['ysum_mean'+str(c)] for c in All_files_St_cd['Stations']],axis=1,sort=False,copy=True)\n",
    "MME_Average.to_csv('output_MS/MME_21GCMmean',index=True)"
   ]
  },
  {
   "cell_type": "code",
   "execution_count": 8,
   "metadata": {},
   "outputs": [],
   "source": [
    "MME_Average['Date']=MME_Average.index\n",
    "MME_Average['Date']=pd.to_datetime(MME_Average['Date'])\n",
    "MME_Average['Year']=MME_Average['Date'].dt.year\n",
    "MME_Average['Month']=MME_Average['Date'].dt.month\n",
    "months=pd.read_csv('input_MS/months_of_season.csv')\n",
    "w=MME_Average[MME_Average['Month'].isin(months['months'])]\n"
   ]
  },
  {
   "cell_type": "code",
   "execution_count": 15,
   "metadata": {},
   "outputs": [],
   "source": [
    "m=list(months['months'])\n",
    "s='output_MS/21GCMmean_months'+str(m)+'.csv'\n",
    "w.to_csv(s,index=True)\n"
   ]
  },
  {
   "cell_type": "code",
   "execution_count": 16,
   "metadata": {},
   "outputs": [
    {
     "name": "stderr",
     "output_type": "stream",
     "text": [
      "C:\\Users\\NICE\\Anaconda3\\lib\\site-packages\\pandas\\core\\frame.py:3694: SettingWithCopyWarning: \n",
      "A value is trying to be set on a copy of a slice from a DataFrame\n",
      "\n",
      "See the caveats in the documentation: http://pandas.pydata.org/pandas-docs/stable/indexing.html#indexing-view-versus-copy\n",
      "  errors=errors)\n",
      "C:\\Users\\NICE\\Anaconda3\\lib\\site-packages\\ipykernel_launcher.py:3: FutureWarning: how in .resample() is deprecated\n",
      "the new syntax is .resample(...).sum()\n",
      "  This is separate from the ipykernel package so we can avoid doing imports until\n"
     ]
    }
   ],
   "source": [
    "w.index=pd.to_datetime(w['Date'])\n",
    "w.drop(['Date'],axis=1,inplace=True)\n",
    "yw=w.resample('Y',how='sum')\n",
    "yw.drop(['Year','Month'],axis=1,inplace=True)\n",
    "r='output_MS/sumMean_21GCM'+str(m)+'.csv'\n",
    "yw.to_csv(r,index=True)\n",
    "\n"
   ]
  },
  {
   "cell_type": "code",
   "execution_count": 8,
   "metadata": {},
   "outputs": [],
   "source": [
    "\n",
    "MME_Average21_cd.to_csv('GCMs_21Mean/MMEMean_21GCMdata_all.csv',index=True)\n"
   ]
  }
 ],
 "metadata": {
  "kernelspec": {
   "display_name": "Python 3",
   "language": "python",
   "name": "python3"
  },
  "language_info": {
   "codemirror_mode": {
    "name": "ipython",
    "version": 3
   },
   "file_extension": ".py",
   "mimetype": "text/x-python",
   "name": "python",
   "nbconvert_exporter": "python",
   "pygments_lexer": "ipython3",
   "version": "3.6.5"
  }
 },
 "nbformat": 4,
 "nbformat_minor": 2
}
